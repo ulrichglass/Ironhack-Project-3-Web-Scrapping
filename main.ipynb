{
 "cells": [
  {
   "cell_type": "markdown",
   "metadata": {},
   "source": [
    "# Comparing Amazon Prices across Europe"
   ]
  },
  {
   "cell_type": "code",
   "execution_count": 2,
   "metadata": {},
   "outputs": [],
   "source": [
    "# import necessary packages\n",
    "import numpy as np\n",
    "import pandas as pd\n",
    "import requests\n",
    "from bs4 import BeautifulSoup\n",
    "import re\n",
    "import sys"
   ]
  },
  {
   "cell_type": "code",
   "execution_count": 3,
   "metadata": {},
   "outputs": [],
   "source": [
    "# Base data\n",
    "# reference: https://www.hagglezon.com\n",
    "countries = ['es', 'de', 'it', 'fr'] # EUR only"
   ]
  },
  {
   "cell_type": "code",
   "execution_count": 8,
   "metadata": {
    "scrolled": true
   },
   "outputs": [
    {
     "name": "stdout",
     "output_type": "stream",
     "text": [
      "Copy Amazon product URL here: https://www.amazon.it/dp/B00GZKMI8G?tag=haggle-web-it-21&linkCode=ogi&th=1&psc=1\n",
      "Product page detected, checking for prices ...\n",
      "B00GZKMI8G?tag=haggle-web-it-21&linkCode=ogi&th=1&psc=1\n",
      "es\n",
      "de\n",
      "it\n",
      "fr\n",
      "You should by at amazon.es\n",
      "Maximum Spread: 252.69999999999993EUR (60.3260999307694%)\n"
     ]
    },
    {
     "data": {
      "text/html": [
       "<div>\n",
       "<style scoped>\n",
       "    .dataframe tbody tr th:only-of-type {\n",
       "        vertical-align: middle;\n",
       "    }\n",
       "\n",
       "    .dataframe tbody tr th {\n",
       "        vertical-align: top;\n",
       "    }\n",
       "\n",
       "    .dataframe thead th {\n",
       "        text-align: right;\n",
       "    }\n",
       "</style>\n",
       "<table border=\"1\" class=\"dataframe\">\n",
       "  <thead>\n",
       "    <tr style=\"text-align: right;\">\n",
       "      <th></th>\n",
       "      <th>country</th>\n",
       "      <th>price_tot</th>\n",
       "      <th>price_num</th>\n",
       "      <th>shipping_costs</th>\n",
       "      <th>url</th>\n",
       "    </tr>\n",
       "  </thead>\n",
       "  <tbody>\n",
       "    <tr>\n",
       "      <th>0</th>\n",
       "      <td>es</td>\n",
       "      <td>418.89</td>\n",
       "      <td>414.90</td>\n",
       "      <td>3.99</td>\n",
       "      <td>https://www.amazon.es/dp/B00GZKMI8G?tag=haggle...</td>\n",
       "    </tr>\n",
       "    <tr>\n",
       "      <th>1</th>\n",
       "      <td>de</td>\n",
       "      <td>488.70</td>\n",
       "      <td>479.90</td>\n",
       "      <td>8.80</td>\n",
       "      <td>https://www.amazon.de/dp/B00GZKMI8G?tag=haggle...</td>\n",
       "    </tr>\n",
       "    <tr>\n",
       "      <th>2</th>\n",
       "      <td>it</td>\n",
       "      <td>658.07</td>\n",
       "      <td>649.27</td>\n",
       "      <td>8.80</td>\n",
       "      <td>https://www.amazon.it/dp/B00GZKMI8G?tag=haggle...</td>\n",
       "    </tr>\n",
       "    <tr>\n",
       "      <th>3</th>\n",
       "      <td>fr</td>\n",
       "      <td>671.59</td>\n",
       "      <td>662.79</td>\n",
       "      <td>8.80</td>\n",
       "      <td>https://www.amazon.fr/dp/B00GZKMI8G?tag=haggle...</td>\n",
       "    </tr>\n",
       "  </tbody>\n",
       "</table>\n",
       "</div>"
      ],
      "text/plain": [
       "  country  price_tot  price_num  shipping_costs  \\\n",
       "0      es     418.89     414.90            3.99   \n",
       "1      de     488.70     479.90            8.80   \n",
       "2      it     658.07     649.27            8.80   \n",
       "3      fr     671.59     662.79            8.80   \n",
       "\n",
       "                                                 url  \n",
       "0  https://www.amazon.es/dp/B00GZKMI8G?tag=haggle...  \n",
       "1  https://www.amazon.de/dp/B00GZKMI8G?tag=haggle...  \n",
       "2  https://www.amazon.it/dp/B00GZKMI8G?tag=haggle...  \n",
       "3  https://www.amazon.fr/dp/B00GZKMI8G?tag=haggle...  "
      ]
     },
     "execution_count": 8,
     "metadata": {},
     "output_type": "execute_result"
    }
   ],
   "source": [
    "# turn HTML into numeric value as object\n",
    "def to_numeric(x):\n",
    "    if len(x):\n",
    "        return re.sub(',','.',re.sub('<\\D*>|\\xa0€|\\.','',str(x[0])))\n",
    "    else:\n",
    "        return np.nan\n",
    "    \n",
    "def getAmazonPrice(productUrl):\n",
    "    # send with headers to bypass 1 block\n",
    "    headers = {\n",
    "        'User-Agent': 'Mozilla/5.0 (Windows NT 6.1) AppleWebKit/537.36 (KHTML, like Gecko) Chrome/41.0.2228.0 Safari/537.36',\n",
    "    }\n",
    "    response = requests.get(productUrl, headers=headers)\n",
    "    #display(response.status_code)\n",
    "    soup = BeautifulSoup(response.content) #, features = 'lxml')\n",
    "    # check the price data\n",
    "    price_html = soup.find_all('span', attrs = {'id' : 'priceblock_ourprice'})\n",
    "    return price_html\n",
    "\n",
    "# shipping costs defined to Portugal\n",
    "def ship_cost(country):\n",
    "    if country == 'es':\n",
    "        return 3.99\n",
    "    else:\n",
    "        return 8.8\n",
    "\n",
    "\n",
    "def strip_id(url_in):\n",
    "    return re.sub('/.*','',re.sub('^.*/dp/','',url_in))\n",
    "\n",
    "while True:\n",
    "    url_input = str(input(\"Copy Amazon product URL here: \"))\n",
    "    match = re.search('^.*/dp/.*$', url_input)\n",
    "    if match:\n",
    "        print('Product page detected, checking for prices ...')\n",
    "        break\n",
    "    else:\n",
    "        print('No Product page detected! Try again ...')\n",
    "        continue\n",
    "\n",
    "product_id = strip_id(url_input)\n",
    "print(product_id)\n",
    "prices_country = pd.DataFrame(columns = ['country', 'price', 'url'])\n",
    "for country in countries:\n",
    "    print(country)\n",
    "    url = 'https://www.amazon.'+country+'/dp/'+product_id\n",
    "    #print(url)\n",
    "    price = getAmazonPrice(url)\n",
    "    #print(price)\n",
    "    prices_country = prices_country.append({'country':country,'price':price,'url':url}, ignore_index = True)    \n",
    "# turn html price into numeric number\n",
    "prices_country['price_num'] = prices_country['price'].apply(to_numeric)\n",
    "prices_country['price_num'] = prices_country['price_num'].astype('float64')\n",
    "# add shipping cost to Portugal\n",
    "prices_country['shipping_costs'] = prices_country['country'].apply(ship_cost)\n",
    "# calculate total price and sort\n",
    "prices_country['price_tot'] = prices_country['price_num'] + prices_country['shipping_costs']\n",
    "#prices_country.sort_values(by=['price_tot'])\n",
    "prices_country_sorted = prices_country.sort_values('price_tot', ascending=True)\n",
    "highest_spread_abs = prices_country['price_tot'].max()-prices_country['price_tot'].min()\n",
    "highest_spread_rel = prices_country['price_tot'].max()/prices_country['price_tot'].min()-1\n",
    "country_to_buy = prices_country_sorted.iloc[0][0]\n",
    "#display(prices_country_sorted['country', 'price_tot', 'price_num', 'shipping_costs', 'url'])\n",
    "print('You should by at amazon.'+country_to_buy)\n",
    "print('Maximum Spread: '+str(highest_spread_abs)+'EUR ('+str(highest_spread_rel*100)+'%)')\n",
    "prices_country_sorted[['country', 'price_tot', 'price_num', 'shipping_costs', 'url']]"
   ]
  },
  {
   "cell_type": "code",
   "execution_count": null,
   "metadata": {},
   "outputs": [],
   "source": [
    "# shipping costs\n",
    "#es https://www.amazon.es/gp/help/customer/display.html/ref=help_search_1-1?ie=UTF8&nodeId=201910820&qid=1603838216&sr=1-1\n",
    "#de https://www.amazon.de/-/en/gp/help/customer/display.html/ref=help_search_1-2?ie=UTF8&nodeId=201910850&qid=1603837867&sr=1-2#GUID-94F272E0-F280-4956-87FB-E99C2528462A__SECTION_6D1620B0D0594CE5AF499E782094954A\n",
    "#it https://www.amazon.it/gp/help/customer/display.html/ref=help_search_1-4?ie=UTF8&nodeId=201910820&qid=1603838098&sr=1-4#GUID-94F104D8-4201-496D-B68B-D10DC9864CF2__SECTION_A8C2956E48AA4A11A1489B916D809CCE\n",
    "#fr https://www.amazon.fr/gp/help/customer/display.html/ref=help_search_1-3?ie=UTF8&nodeId=201910820&qid=1603838006&sr=1-3"
   ]
  },
  {
   "cell_type": "code",
   "execution_count": null,
   "metadata": {},
   "outputs": [],
   "source": []
  }
 ],
 "metadata": {
  "kernelspec": {
   "display_name": "Python 3",
   "language": "python",
   "name": "python3"
  },
  "language_info": {
   "codemirror_mode": {
    "name": "ipython",
    "version": 3
   },
   "file_extension": ".py",
   "mimetype": "text/x-python",
   "name": "python",
   "nbconvert_exporter": "python",
   "pygments_lexer": "ipython3",
   "version": "3.8.3"
  }
 },
 "nbformat": 4,
 "nbformat_minor": 4
}
